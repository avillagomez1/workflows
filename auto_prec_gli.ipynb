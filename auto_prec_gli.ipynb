{
  "cells": [
    {
      "cell_type": "markdown",
      "metadata": {
        "id": "view-in-github",
        "colab_type": "text"
      },
      "source": [
        "<a href=\"https://colab.research.google.com/github/avillagomez1/workflows/blob/main/auto_prec_gli.ipynb\" target=\"_parent\"><img src=\"https://colab.research.google.com/assets/colab-badge.svg\" alt=\"Open In Colab\"/></a>"
      ]
    },
    {
      "cell_type": "code",
      "source": [
        "import smtplib\n",
        "from email.mime.multipart import MIMEMultipart\n",
        "from email.mime.text import MIMEText\n",
        "from email.mime.application import MIMEApplication\n",
        "from google.colab import auth\n",
        "from google.cloud import bigquery\n",
        "from google.colab import data_table\n",
        "\n",
        "auth.authenticate_user()\n",
        "\n",
        "# Configuración de conexión con BigQuery\n",
        "project = 'txd-logistic-datafape-dtlk'\n",
        "location = 'US'\n",
        "client = bigquery.Client(project=project, location=location)\n",
        "data_table.enable_dataframe_formatter()\n",
        "\n",
        "\n",
        "job = client.get_job('bquxjob_5e618f1f_18d2df92dd3')\n",
        "results = job.to_dataframe()\n",
        "\n",
        "\n",
        "subject = 'Cruce Precios GLI'\n",
        "sender_email = 'desarrolloingenieriacd@gmail.com'  # Reemplaza con tu dirección de correo electrónico\n",
        "receiver_email = ['avillagomez@sagafalabella.com.pe', 'agomezm@sagafalabella.com.pe']  # Reemplaza con la dirección del destinatario\n",
        "body = \"El consolidado se ha ejecutado exitosamente. Por favor, no responder este mensaje\"\n",
        "\n",
        "message = MIMEMultipart()\n",
        "message['Subject'] = subject\n",
        "message['From'] = sender_email\n",
        "message['To'] = ', '.join(receiver_email)\n",
        "\n",
        "# Agregar el cuerpo del correo\n",
        "message.attach(MIMEText(body, 'plain'))\n",
        "\n",
        "# Agregar el archivo adjunto\n",
        "attachment = MIMEApplication(results.to_csv(index=False), Name=\"resultados.csv\")\n",
        "attachment['Content-Disposition'] = 'attachment; filename=\"resultados.csv\"'\n",
        "message.attach(attachment)\n",
        "\n",
        "# Conectar al servidor SMTP y enviar el correo electrónico\n",
        "with smtplib.SMTP('smtp.gmail.com', 587) as server:\n",
        "    server.starttls()\n",
        "    server.login(sender_email, 'btye xvol fype iikv')  #contraseña\n",
        "    server.sendmail(sender_email, receiver_email, message.as_string())\n"
      ],
      "metadata": {
        "id": "kre1F6_OAJRs"
      },
      "execution_count": null,
      "outputs": []
    }
  ],
  "metadata": {
    "colab": {
      "cell_execution_strategy": "setup",
      "provenance": [],
      "include_colab_link": true
    },
    "kernelspec": {
      "display_name": "Python 3",
      "name": "python3"
    },
    "language_info": {
      "name": "python"
    }
  },
  "nbformat": 4,
  "nbformat_minor": 0
}